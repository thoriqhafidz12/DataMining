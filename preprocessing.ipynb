{
  "nbformat": 4,
  "nbformat_minor": 0,
  "metadata": {
    "colab": {
      "name": "preprocessing.ipynb",
      "provenance": [],
      "collapsed_sections": []
    },
    "kernelspec": {
      "name": "python3",
      "display_name": "Python 3"
    },
    "language_info": {
      "name": "python"
    }
  },
  "cells": [
    {
      "cell_type": "code",
      "execution_count": 48,
      "metadata": {
        "id": "SBzwSXCSE94C"
      },
      "outputs": [],
      "source": [
        "import numpy as np\n",
        "import matplotlib.pyplot as plt\n",
        "import pandas as pd"
      ]
    },
    {
      "cell_type": "markdown",
      "source": [
        "Numpy merupakan library  phyton digunakan untuk kompotasi matriks. Matplotlib merupakan library phyton untuk presentasi data berupa grafik atau plot . . . .. "
      ],
      "metadata": {
        "id": "pyBxEyn3GluK"
      }
    },
    {
      "cell_type": "code",
      "source": [
        "dataset = pd.read_csv('Dataset.csv')\n",
        "x = dataset.iloc[:, :-1].values\n",
        "y = dataset.iloc[:, -1].values"
      ],
      "metadata": {
        "id": "0oSXg9nxHAXe"
      },
      "execution_count": 49,
      "outputs": []
    },
    {
      "cell_type": "code",
      "source": [
        "print (x)\n",
        "print (y)"
      ],
      "metadata": {
        "colab": {
          "base_uri": "https://localhost:8080/"
        },
        "id": "rhRhfEfnHiB0",
        "outputId": "c93f4d57-b3b1-47c9-e842-e35f9fcca972"
      },
      "execution_count": 50,
      "outputs": [
        {
          "output_type": "stream",
          "name": "stdout",
          "text": [
            "[['India' 49.0 86400.0]\n",
            " ['Brazil' 32.0 57600.0]\n",
            " ['USA' 35.0 64800.0]\n",
            " ['Brazil' 43.0 73200.0]\n",
            " ['USA' 45.0 nan]\n",
            " ['India' 40.0 69600.0]\n",
            " ['Brazil' nan 62400.0]\n",
            " ['India' 53.0 94800.0]\n",
            " ['USA' 55.0 99600.0]\n",
            " ['India' 42.0 80400.0]]\n",
            "['Yes' 'Yes' 'No' 'No' 'Yes' 'No' 'No' 'Yes' 'No' 'Yes']\n"
          ]
        }
      ]
    },
    {
      "cell_type": "code",
      "source": [
        "from sklearn.impute import SimpleImputer\n",
        "imputer = SimpleImputer(missing_values=np.nan, strategy='mean')\n",
        "imputer.fit(x[:, 1:3])\n",
        "x[:, 1:3] = imputer.transform(x[:, 1:3])"
      ],
      "metadata": {
        "id": "y3QzREy9Jt6u"
      },
      "execution_count": 51,
      "outputs": []
    },
    {
      "cell_type": "code",
      "source": [
        "print (x)"
      ],
      "metadata": {
        "colab": {
          "base_uri": "https://localhost:8080/"
        },
        "id": "wwwWCVHJKq64",
        "outputId": "b741e8e1-8f4e-4c4e-e840-6c292044c21c"
      },
      "execution_count": 52,
      "outputs": [
        {
          "output_type": "stream",
          "name": "stdout",
          "text": [
            "[['India' 49.0 86400.0]\n",
            " ['Brazil' 32.0 57600.0]\n",
            " ['USA' 35.0 64800.0]\n",
            " ['Brazil' 43.0 73200.0]\n",
            " ['USA' 45.0 76533.33333333333]\n",
            " ['India' 40.0 69600.0]\n",
            " ['Brazil' 43.77777777777778 62400.0]\n",
            " ['India' 53.0 94800.0]\n",
            " ['USA' 55.0 99600.0]\n",
            " ['India' 42.0 80400.0]]\n"
          ]
        }
      ]
    },
    {
      "cell_type": "code",
      "source": [
        "from sklearn.compose import ColumnTransformer\n",
        "from sklearn.preprocessing import OneHotEncoder\n",
        "ct = ColumnTransformer(transformers=[('encoder',OneHotEncoder(), [0])], remainder='passthrough')\n",
        "x = np.array(ct.fit_transform(x))"
      ],
      "metadata": {
        "id": "1gzAUPqyKuIN"
      },
      "execution_count": 53,
      "outputs": []
    },
    {
      "cell_type": "code",
      "source": [
        "print (x)"
      ],
      "metadata": {
        "id": "IEgVBnCILp3T",
        "outputId": "4ebbab40-f214-4a72-f6e6-6a807e0ea27c",
        "colab": {
          "base_uri": "https://localhost:8080/"
        }
      },
      "execution_count": 54,
      "outputs": [
        {
          "output_type": "stream",
          "name": "stdout",
          "text": [
            "[[0.0 1.0 0.0 49.0 86400.0]\n",
            " [1.0 0.0 0.0 32.0 57600.0]\n",
            " [0.0 0.0 1.0 35.0 64800.0]\n",
            " [1.0 0.0 0.0 43.0 73200.0]\n",
            " [0.0 0.0 1.0 45.0 76533.33333333333]\n",
            " [0.0 1.0 0.0 40.0 69600.0]\n",
            " [1.0 0.0 0.0 43.77777777777778 62400.0]\n",
            " [0.0 1.0 0.0 53.0 94800.0]\n",
            " [0.0 0.0 1.0 55.0 99600.0]\n",
            " [0.0 1.0 0.0 42.0 80400.0]]\n"
          ]
        }
      ]
    },
    {
      "cell_type": "code",
      "source": [
        "from sklearn.preprocessing import LabelEncoder\n",
        "le = LabelEncoder()\n",
        "y = le.fit_transform(y)"
      ],
      "metadata": {
        "id": "2t1BnKLhJkpJ"
      },
      "execution_count": 55,
      "outputs": []
    },
    {
      "cell_type": "code",
      "source": [
        "print (y)"
      ],
      "metadata": {
        "colab": {
          "base_uri": "https://localhost:8080/"
        },
        "id": "UOSEtoiyLH-F",
        "outputId": "9a371a8f-03e4-4f46-92ec-6a9c3f20df67"
      },
      "execution_count": 56,
      "outputs": [
        {
          "output_type": "stream",
          "name": "stdout",
          "text": [
            "[1 1 0 0 1 0 0 1 0 1]\n"
          ]
        }
      ]
    },
    {
      "cell_type": "code",
      "source": [
        "from sklearn.model_selection import train_test_split\n",
        "x_train, x_test, y_train, y_test = train_test_split(x,y, test_size = 0.2, random_state = 1)"
      ],
      "metadata": {
        "id": "8eIJ6AovLRcS"
      },
      "execution_count": 57,
      "outputs": []
    },
    {
      "cell_type": "code",
      "source": [
        "print (x_train)"
      ],
      "metadata": {
        "colab": {
          "base_uri": "https://localhost:8080/"
        },
        "id": "ifkH94kjL-Dl",
        "outputId": "c10197f0-487c-4495-88dc-3b0495fc40d7"
      },
      "execution_count": 58,
      "outputs": [
        {
          "output_type": "stream",
          "name": "stdout",
          "text": [
            "[[1.0 0.0 0.0 43.77777777777778 62400.0]\n",
            " [0.0 0.0 1.0 45.0 76533.33333333333]\n",
            " [0.0 1.0 0.0 49.0 86400.0]\n",
            " [1.0 0.0 0.0 43.0 73200.0]\n",
            " [1.0 0.0 0.0 32.0 57600.0]\n",
            " [0.0 1.0 0.0 53.0 94800.0]\n",
            " [0.0 0.0 1.0 55.0 99600.0]\n",
            " [0.0 1.0 0.0 40.0 69600.0]]\n"
          ]
        }
      ]
    },
    {
      "cell_type": "code",
      "source": [
        "print (x_test)"
      ],
      "metadata": {
        "colab": {
          "base_uri": "https://localhost:8080/"
        },
        "id": "VXEmHJ83MCLx",
        "outputId": "6a0bac5d-2444-4295-bc25-1afa0ef441c5"
      },
      "execution_count": 59,
      "outputs": [
        {
          "output_type": "stream",
          "name": "stdout",
          "text": [
            "[[0.0 0.0 1.0 35.0 64800.0]\n",
            " [0.0 1.0 0.0 42.0 80400.0]]\n"
          ]
        }
      ]
    },
    {
      "cell_type": "code",
      "source": [
        "print (y_train)"
      ],
      "metadata": {
        "colab": {
          "base_uri": "https://localhost:8080/"
        },
        "id": "fHdijSJXME_l",
        "outputId": "175cfb55-d4e3-4c1c-8b10-a2c1fc50abed"
      },
      "execution_count": 60,
      "outputs": [
        {
          "output_type": "stream",
          "name": "stdout",
          "text": [
            "[0 1 1 0 1 1 0 0]\n"
          ]
        }
      ]
    },
    {
      "cell_type": "code",
      "source": [
        "print (y_test)"
      ],
      "metadata": {
        "colab": {
          "base_uri": "https://localhost:8080/"
        },
        "id": "KkM1hJxzMHwj",
        "outputId": "529bd7bc-0adb-4949-f7b0-ce4b60a3f5bf"
      },
      "execution_count": 61,
      "outputs": [
        {
          "output_type": "stream",
          "name": "stdout",
          "text": [
            "[0 1]\n"
          ]
        }
      ]
    },
    {
      "cell_type": "code",
      "source": [
        "from sklearn.preprocessing import StandardScaler\n",
        "sc = StandardScaler()\n",
        "x_train[:, 3:] = sc.fit_transform(x_train [:, 3:])\n",
        "x_test[:, 3:] = sc.transform(x_test[:, 3:])"
      ],
      "metadata": {
        "id": "2bTJcFKcMLP5"
      },
      "execution_count": 62,
      "outputs": []
    },
    {
      "cell_type": "code",
      "source": [
        "print(x_train)"
      ],
      "metadata": {
        "colab": {
          "base_uri": "https://localhost:8080/"
        },
        "id": "O7lFOCfTOCnz",
        "outputId": "39f0433c-a51f-4442-a18e-a0f7cbd8d833"
      },
      "execution_count": 63,
      "outputs": [
        {
          "output_type": "stream",
          "name": "stdout",
          "text": [
            "[[1.0 0.0 0.0 -0.19159184384578545 -1.078125940841242]\n",
            " [0.0 0.0 1.0 -0.014117293757057777 -0.07013167641635393]\n",
            " [0.0 1.0 0.0 0.566708506533324 0.6335624327104554]\n",
            " [1.0 0.0 0.0 -0.30453019390224867 -0.30786617274297823]\n",
            " [1.0 0.0 0.0 -1.9018011447007988 -1.4204636155515815]\n",
            " [0.0 1.0 0.0 1.1475343068237058 1.2326533634535495]\n",
            " [0.0 0.0 1.0 1.4379472069688968 1.574991038163889]\n",
            " [0.0 1.0 0.0 -0.7401495441200351 -0.5646194287757329]]\n"
          ]
        }
      ]
    }
  ]
}